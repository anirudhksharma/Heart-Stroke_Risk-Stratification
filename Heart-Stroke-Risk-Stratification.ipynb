{
 "cells": [
  {
   "cell_type": "code",
   "execution_count": 201,
   "id": "17d2576c-3cb4-4b3d-a20c-3550bd200f5f",
   "metadata": {},
   "outputs": [],
   "source": [
    "import pandas as pd\n",
    "import numpy"
   ]
  },
  {
   "cell_type": "code",
   "execution_count": 202,
   "id": "4af80193-4435-4a7d-8fda-3d762235d21a",
   "metadata": {},
   "outputs": [],
   "source": [
    "data = pd.read_csv(\"healthcare-dataset-stroke-data.csv\")"
   ]
  },
  {
   "cell_type": "code",
   "execution_count": 203,
   "id": "5ee2c580-9394-4e4e-9d3b-086e871d8297",
   "metadata": {},
   "outputs": [
    {
     "name": "stdout",
     "output_type": "stream",
     "text": [
      "<class 'pandas.core.frame.DataFrame'>\n",
      "RangeIndex: 5110 entries, 0 to 5109\n",
      "Data columns (total 12 columns):\n",
      " #   Column             Non-Null Count  Dtype  \n",
      "---  ------             --------------  -----  \n",
      " 0   id                 5110 non-null   int64  \n",
      " 1   gender             5110 non-null   int64  \n",
      " 2   age                5110 non-null   float64\n",
      " 3   hypertension       5110 non-null   int64  \n",
      " 4   heart_disease      5110 non-null   int64  \n",
      " 5   ever_married       5110 non-null   int64  \n",
      " 6   work_type          5110 non-null   int64  \n",
      " 7   Residence_type     5110 non-null   int64  \n",
      " 8   avg_glucose_level  5110 non-null   float64\n",
      " 9   bmi                5110 non-null   float64\n",
      " 10  smoking_status     5110 non-null   int64  \n",
      " 11  stroke             5110 non-null   int64  \n",
      "dtypes: float64(3), int64(9)\n",
      "memory usage: 479.2 KB\n"
     ]
    },
    {
     "data": {
      "text/plain": [
       "(None,\n",
       "       id  gender   age  hypertension  heart_disease  ever_married  work_type  \\\n",
       " 0   9046       1  67.0             0              1             1          2   \n",
       " 1  51676       0  61.0             0              0             1          3   \n",
       " 2  31112       1  80.0             0              1             1          2   \n",
       " 3  60182       0  49.0             0              0             1          2   \n",
       " 4   1665       0  79.0             1              0             1          3   \n",
       " \n",
       "    Residence_type  avg_glucose_level   bmi  smoking_status  stroke  \n",
       " 0               1             228.69  36.6               1       1  \n",
       " 1               0             202.21  28.1               2       1  \n",
       " 2               0             105.92  32.5               2       1  \n",
       " 3               1             171.23  34.4               3       1  \n",
       " 4               0             174.12  24.0               2       1  )"
      ]
     },
     "execution_count": 203,
     "metadata": {},
     "output_type": "execute_result"
    }
   ],
   "source": [
    "from sklearn.preprocessing import LabelEncoder\n",
    "from sklearn.impute import SimpleImputer\n",
    "\n",
    "# Checking for missing values in the dataset\n",
    "missing_values = data.isnull().sum()\n",
    "\n",
    "# Impute missing values for 'bmi' using the median\n",
    "imputer = SimpleImputer(strategy='median')\n",
    "data['bmi'] = imputer.fit_transform(data[['bmi']])\n",
    "\n",
    "# Encode categorical columns using LabelEncoder\n",
    "label_encoder = LabelEncoder()\n",
    "categorical_columns = ['gender', 'ever_married', 'work_type', 'Residence_type', 'smoking_status']\n",
    "\n",
    "for col in categorical_columns:\n",
    "    data[col] = label_encoder.fit_transform(data[col])\n",
    "\n",
    "# Display the cleaned dataset summary\n",
    "data.info(), data.head()"
   ]
  },
  {
   "cell_type": "code",
   "execution_count": 204,
   "id": "7df65958-bdc7-4206-ac82-19191b91187a",
   "metadata": {},
   "outputs": [
    {
     "data": {
      "text/html": [
       "<div>\n",
       "<style scoped>\n",
       "    .dataframe tbody tr th:only-of-type {\n",
       "        vertical-align: middle;\n",
       "    }\n",
       "\n",
       "    .dataframe tbody tr th {\n",
       "        vertical-align: top;\n",
       "    }\n",
       "\n",
       "    .dataframe thead th {\n",
       "        text-align: right;\n",
       "    }\n",
       "</style>\n",
       "<table border=\"1\" class=\"dataframe\">\n",
       "  <thead>\n",
       "    <tr style=\"text-align: right;\">\n",
       "      <th></th>\n",
       "      <th>id</th>\n",
       "      <th>gender</th>\n",
       "      <th>age</th>\n",
       "      <th>hypertension</th>\n",
       "      <th>heart_disease</th>\n",
       "      <th>ever_married</th>\n",
       "      <th>work_type</th>\n",
       "      <th>Residence_type</th>\n",
       "      <th>avg_glucose_level</th>\n",
       "      <th>bmi</th>\n",
       "      <th>smoking_status</th>\n",
       "      <th>stroke</th>\n",
       "    </tr>\n",
       "  </thead>\n",
       "  <tbody>\n",
       "    <tr>\n",
       "      <th>0</th>\n",
       "      <td>9046</td>\n",
       "      <td>1</td>\n",
       "      <td>67.0</td>\n",
       "      <td>0</td>\n",
       "      <td>1</td>\n",
       "      <td>1</td>\n",
       "      <td>2</td>\n",
       "      <td>1</td>\n",
       "      <td>228.69</td>\n",
       "      <td>36.6</td>\n",
       "      <td>1</td>\n",
       "      <td>1</td>\n",
       "    </tr>\n",
       "    <tr>\n",
       "      <th>1</th>\n",
       "      <td>51676</td>\n",
       "      <td>0</td>\n",
       "      <td>61.0</td>\n",
       "      <td>0</td>\n",
       "      <td>0</td>\n",
       "      <td>1</td>\n",
       "      <td>3</td>\n",
       "      <td>0</td>\n",
       "      <td>202.21</td>\n",
       "      <td>28.1</td>\n",
       "      <td>2</td>\n",
       "      <td>1</td>\n",
       "    </tr>\n",
       "    <tr>\n",
       "      <th>2</th>\n",
       "      <td>31112</td>\n",
       "      <td>1</td>\n",
       "      <td>80.0</td>\n",
       "      <td>0</td>\n",
       "      <td>1</td>\n",
       "      <td>1</td>\n",
       "      <td>2</td>\n",
       "      <td>0</td>\n",
       "      <td>105.92</td>\n",
       "      <td>32.5</td>\n",
       "      <td>2</td>\n",
       "      <td>1</td>\n",
       "    </tr>\n",
       "    <tr>\n",
       "      <th>3</th>\n",
       "      <td>60182</td>\n",
       "      <td>0</td>\n",
       "      <td>49.0</td>\n",
       "      <td>0</td>\n",
       "      <td>0</td>\n",
       "      <td>1</td>\n",
       "      <td>2</td>\n",
       "      <td>1</td>\n",
       "      <td>171.23</td>\n",
       "      <td>34.4</td>\n",
       "      <td>3</td>\n",
       "      <td>1</td>\n",
       "    </tr>\n",
       "    <tr>\n",
       "      <th>4</th>\n",
       "      <td>1665</td>\n",
       "      <td>0</td>\n",
       "      <td>79.0</td>\n",
       "      <td>1</td>\n",
       "      <td>0</td>\n",
       "      <td>1</td>\n",
       "      <td>3</td>\n",
       "      <td>0</td>\n",
       "      <td>174.12</td>\n",
       "      <td>24.0</td>\n",
       "      <td>2</td>\n",
       "      <td>1</td>\n",
       "    </tr>\n",
       "  </tbody>\n",
       "</table>\n",
       "</div>"
      ],
      "text/plain": [
       "      id  gender   age  hypertension  heart_disease  ever_married  work_type  \\\n",
       "0   9046       1  67.0             0              1             1          2   \n",
       "1  51676       0  61.0             0              0             1          3   \n",
       "2  31112       1  80.0             0              1             1          2   \n",
       "3  60182       0  49.0             0              0             1          2   \n",
       "4   1665       0  79.0             1              0             1          3   \n",
       "\n",
       "   Residence_type  avg_glucose_level   bmi  smoking_status  stroke  \n",
       "0               1             228.69  36.6               1       1  \n",
       "1               0             202.21  28.1               2       1  \n",
       "2               0             105.92  32.5               2       1  \n",
       "3               1             171.23  34.4               3       1  \n",
       "4               0             174.12  24.0               2       1  "
      ]
     },
     "execution_count": 204,
     "metadata": {},
     "output_type": "execute_result"
    }
   ],
   "source": [
    "data.head()"
   ]
  },
  {
   "cell_type": "code",
   "execution_count": 205,
   "id": "ec60e92e-60c7-4766-b078-1eed0991bcc2",
   "metadata": {},
   "outputs": [],
   "source": [
    "X = data.drop('id', axis = 1)"
   ]
  },
  {
   "cell_type": "code",
   "execution_count": 206,
   "id": "3f49debb-17ac-4261-85df-5cd876be92f0",
   "metadata": {},
   "outputs": [
    {
     "data": {
      "text/html": [
       "<div>\n",
       "<style scoped>\n",
       "    .dataframe tbody tr th:only-of-type {\n",
       "        vertical-align: middle;\n",
       "    }\n",
       "\n",
       "    .dataframe tbody tr th {\n",
       "        vertical-align: top;\n",
       "    }\n",
       "\n",
       "    .dataframe thead th {\n",
       "        text-align: right;\n",
       "    }\n",
       "</style>\n",
       "<table border=\"1\" class=\"dataframe\">\n",
       "  <thead>\n",
       "    <tr style=\"text-align: right;\">\n",
       "      <th></th>\n",
       "      <th>gender</th>\n",
       "      <th>age</th>\n",
       "      <th>hypertension</th>\n",
       "      <th>heart_disease</th>\n",
       "      <th>ever_married</th>\n",
       "      <th>work_type</th>\n",
       "      <th>Residence_type</th>\n",
       "      <th>avg_glucose_level</th>\n",
       "      <th>bmi</th>\n",
       "      <th>smoking_status</th>\n",
       "      <th>stroke</th>\n",
       "    </tr>\n",
       "  </thead>\n",
       "  <tbody>\n",
       "    <tr>\n",
       "      <th>0</th>\n",
       "      <td>1</td>\n",
       "      <td>67.0</td>\n",
       "      <td>0</td>\n",
       "      <td>1</td>\n",
       "      <td>1</td>\n",
       "      <td>2</td>\n",
       "      <td>1</td>\n",
       "      <td>228.69</td>\n",
       "      <td>36.6</td>\n",
       "      <td>1</td>\n",
       "      <td>1</td>\n",
       "    </tr>\n",
       "  </tbody>\n",
       "</table>\n",
       "</div>"
      ],
      "text/plain": [
       "   gender   age  hypertension  heart_disease  ever_married  work_type  \\\n",
       "0       1  67.0             0              1             1          2   \n",
       "\n",
       "   Residence_type  avg_glucose_level   bmi  smoking_status  stroke  \n",
       "0               1             228.69  36.6               1       1  "
      ]
     },
     "execution_count": 206,
     "metadata": {},
     "output_type": "execute_result"
    }
   ],
   "source": [
    "X[:1]"
   ]
  },
  {
   "cell_type": "code",
   "execution_count": 207,
   "id": "e85503bd-6e48-4840-8614-48484f6ca4ff",
   "metadata": {},
   "outputs": [],
   "source": [
    "y = data['stroke']"
   ]
  },
  {
   "cell_type": "code",
   "execution_count": 208,
   "id": "4a803cd0-b859-483a-945e-7fc75718d730",
   "metadata": {},
   "outputs": [
    {
     "data": {
      "text/plain": [
       "0    1\n",
       "1    1\n",
       "2    1\n",
       "3    1\n",
       "4    1\n",
       "Name: stroke, dtype: int64"
      ]
     },
     "execution_count": 208,
     "metadata": {},
     "output_type": "execute_result"
    }
   ],
   "source": [
    "y.head()"
   ]
  },
  {
   "cell_type": "code",
   "execution_count": 209,
   "id": "b4d7922a-109c-4045-9bbd-435dd3fcc71e",
   "metadata": {},
   "outputs": [
    {
     "data": {
      "text/plain": [
       "((4088, 11), (1022, 11), (4088,), (1022,))"
      ]
     },
     "execution_count": 209,
     "metadata": {},
     "output_type": "execute_result"
    }
   ],
   "source": [
    "from sklearn.model_selection import train_test_split\n",
    "from sklearn.preprocessing import StandardScaler\n",
    "\n",
    "# Split the dataset into training and testing sets (80% train, 20% test)\n",
    "X_train, X_test, y_train, y_test = train_test_split(X, y, test_size=0.2, random_state=42, stratify=y)\n",
    "\n",
    "# Scale the numerical features\n",
    "scaler = StandardScaler()\n",
    "X_train = scaler.fit_transform(X_train)\n",
    "X_test = scaler.transform(X_test)\n",
    "\n",
    "# Display the shape of the training and testing sets\n",
    "X_train.shape, X_test.shape, y_train.shape, y_test.shape"
   ]
  },
  {
   "cell_type": "code",
   "execution_count": 210,
   "id": "58253c51-1fc6-46a1-ac62-1d6a7c372710",
   "metadata": {},
   "outputs": [],
   "source": [
    "import torch\n",
    "from torch import nn"
   ]
  },
  {
   "cell_type": "code",
   "execution_count": 211,
   "id": "e2fd5606-978f-4471-aa1b-854e502ff57d",
   "metadata": {},
   "outputs": [
    {
     "data": {
      "text/plain": [
       "dtype('int64')"
      ]
     },
     "execution_count": 211,
     "metadata": {},
     "output_type": "execute_result"
    }
   ],
   "source": [
    "y_train.dtype"
   ]
  },
  {
   "cell_type": "code",
   "execution_count": 212,
   "id": "56db0201-6e38-4ccd-8cf7-c02adb357e58",
   "metadata": {},
   "outputs": [],
   "source": [
    "device = 'cuda' if torch.cuda.is_available() else 'cpu'"
   ]
  },
  {
   "cell_type": "code",
   "execution_count": 213,
   "id": "3ec720ff-0143-4ce2-a627-8ea141ed6f0e",
   "metadata": {},
   "outputs": [
    {
     "data": {
      "text/plain": [
       "'cuda'"
      ]
     },
     "execution_count": 213,
     "metadata": {},
     "output_type": "execute_result"
    }
   ],
   "source": [
    "device "
   ]
  },
  {
   "cell_type": "code",
   "execution_count": 214,
   "id": "f0654aaf-be06-4dba-a9da-b38d60ca2b9e",
   "metadata": {},
   "outputs": [
    {
     "data": {
      "text/plain": [
       "dtype('int64')"
      ]
     },
     "execution_count": 214,
     "metadata": {},
     "output_type": "execute_result"
    }
   ],
   "source": [
    "y_test.dtype"
   ]
  },
  {
   "cell_type": "code",
   "execution_count": 215,
   "id": "25d69eb5-b95a-454a-a13a-704e28296227",
   "metadata": {},
   "outputs": [],
   "source": [
    "y_train = torch.tensor(y_train.values)\n",
    "y_test = torch.tensor(y_test.values)\n",
    "X_train = torch.tensor(X_train)\n",
    "X_test = torch.tensor(X_test)"
   ]
  },
  {
   "cell_type": "code",
   "execution_count": 216,
   "id": "bae7f72a-4d3d-40d5-b569-bf5d02fffbff",
   "metadata": {},
   "outputs": [
    {
     "data": {
      "text/plain": [
       "tensor([[ 1.1876,  0.8696, -0.3280, -0.2391,  0.7170, -0.1611, -1.0123, -0.6207,\n",
       "          0.7616,  0.5892, -0.2262]], dtype=torch.float64)"
      ]
     },
     "execution_count": 216,
     "metadata": {},
     "output_type": "execute_result"
    }
   ],
   "source": [
    "X_test[:1]"
   ]
  },
  {
   "cell_type": "code",
   "execution_count": 217,
   "id": "d45d22e1-eda9-4596-847e-314528c7e0a0",
   "metadata": {},
   "outputs": [
    {
     "data": {
      "text/plain": [
       "torch.int64"
      ]
     },
     "execution_count": 217,
     "metadata": {},
     "output_type": "execute_result"
    }
   ],
   "source": [
    "y_train.dtype"
   ]
  },
  {
   "cell_type": "code",
   "execution_count": 218,
   "id": "3d1a3f98-ce3b-414b-8b94-38782490b20e",
   "metadata": {},
   "outputs": [],
   "source": [
    "X_train, y_train, X_test, y_test = X_train.to(device), y_train.to(device), X_test.to(device), y_test.to(device)"
   ]
  },
  {
   "cell_type": "code",
   "execution_count": 219,
   "id": "ac92dc59-5753-4e18-996b-88eb96e73cd5",
   "metadata": {},
   "outputs": [
    {
     "data": {
      "text/plain": [
       "torch.Size([4088, 11])"
      ]
     },
     "execution_count": 219,
     "metadata": {},
     "output_type": "execute_result"
    }
   ],
   "source": [
    "X_train.shape"
   ]
  },
  {
   "cell_type": "code",
   "execution_count": 263,
   "id": "5529c77b-6c54-48e0-9a6d-7b5a6bc5b272",
   "metadata": {},
   "outputs": [],
   "source": [
    "class BaseLineModel(nn.Module):\n",
    "    def __init__(self):\n",
    "        super().__init__()\n",
    "        self.LinearBlock1 = nn.Sequential(\n",
    "            nn.Linear(in_features = 11,\n",
    "                      out_features = 32),\n",
    "            nn.Linear(in_features = 32,\n",
    "                      out_features = 32),\n",
    "            nn.ReLU()\n",
    "        )\n",
    "        self.LinearBlock2 = nn.Sequential(\n",
    "            nn.Linear(in_features = 32,\n",
    "                      out_features = 16),\n",
    "            nn.Linear(in_features = 16,\n",
    "                      out_features = 1),\n",
    "            nn.ReLU()\n",
    "        )\n",
    "\n",
    "    def forward(self, x):\n",
    "        \"\"\"\n",
    "        x = self.LinearBlock1(x)\n",
    "        print(x)\n",
    "        x = self.LinearBlock2(x)\n",
    "        print(x)\n",
    "        \"\"\"\n",
    "        return self.LinearBlock2(self.LinearBlock1(x))\n",
    "\n",
    "\n",
    "model0 = BaseLineModel().to(device)"
   ]
  },
  {
   "cell_type": "code",
   "execution_count": 264,
   "id": "6de2b706-77c5-4138-8fc2-a542c4130e86",
   "metadata": {},
   "outputs": [
    {
     "data": {
      "text/plain": [
       "BaseLineModel(\n",
       "  (LinearBlock1): Sequential(\n",
       "    (0): Linear(in_features=11, out_features=32, bias=True)\n",
       "    (1): Linear(in_features=32, out_features=32, bias=True)\n",
       "    (2): ReLU()\n",
       "  )\n",
       "  (LinearBlock2): Sequential(\n",
       "    (0): Linear(in_features=32, out_features=16, bias=True)\n",
       "    (1): Linear(in_features=16, out_features=1, bias=True)\n",
       "    (2): ReLU()\n",
       "  )\n",
       ")"
      ]
     },
     "execution_count": 264,
     "metadata": {},
     "output_type": "execute_result"
    }
   ],
   "source": [
    "model0"
   ]
  },
  {
   "cell_type": "code",
   "execution_count": 265,
   "id": "483090a7-ac26-456a-96d6-da5ce7a63588",
   "metadata": {},
   "outputs": [],
   "source": [
    "from torchinfo import summary"
   ]
  },
  {
   "cell_type": "code",
   "execution_count": 266,
   "id": "b5a91307-b8fd-41c2-8043-6527aa8754d5",
   "metadata": {},
   "outputs": [
    {
     "data": {
      "text/plain": [
       "=================================================================\n",
       "Layer (type:depth-idx)                   Param #\n",
       "=================================================================\n",
       "BaseLineModel                            --\n",
       "├─Sequential: 1-1                        --\n",
       "│    └─Linear: 2-1                       384\n",
       "│    └─Linear: 2-2                       1,056\n",
       "│    └─ReLU: 2-3                         --\n",
       "├─Sequential: 1-2                        --\n",
       "│    └─Linear: 2-4                       528\n",
       "│    └─Linear: 2-5                       17\n",
       "│    └─ReLU: 2-6                         --\n",
       "=================================================================\n",
       "Total params: 1,985\n",
       "Trainable params: 1,985\n",
       "Non-trainable params: 0\n",
       "================================================================="
      ]
     },
     "execution_count": 266,
     "metadata": {},
     "output_type": "execute_result"
    }
   ],
   "source": [
    "summary(model0)"
   ]
  },
  {
   "cell_type": "code",
   "execution_count": 267,
   "id": "8a258443-58d6-46cf-a05e-10134e3ecb43",
   "metadata": {},
   "outputs": [],
   "source": [
    "dummy_x = X_train[:1].to(device).to(torch.float32)"
   ]
  },
  {
   "cell_type": "code",
   "execution_count": 268,
   "id": "31d725ca-fdbb-4b13-a790-334ddaa293b3",
   "metadata": {},
   "outputs": [
    {
     "data": {
      "text/plain": [
       "tensor([[-0.8403,  0.2057, -0.3280, -0.2391,  0.7170, -0.1611,  0.9878, -0.8200,\n",
       "          0.5426,  0.5892, -0.2262]], device='cuda:0')"
      ]
     },
     "execution_count": 268,
     "metadata": {},
     "output_type": "execute_result"
    }
   ],
   "source": [
    "dummy_x"
   ]
  },
  {
   "cell_type": "code",
   "execution_count": 269,
   "id": "294f3f4f-4278-4c34-9d27-d3861d3f75ea",
   "metadata": {},
   "outputs": [
    {
     "data": {
      "text/plain": [
       "torch.float32"
      ]
     },
     "execution_count": 269,
     "metadata": {},
     "output_type": "execute_result"
    }
   ],
   "source": [
    "X_train.dtype"
   ]
  },
  {
   "cell_type": "code",
   "execution_count": 270,
   "id": "43b76a1c-3ac1-405d-9a16-aafda6b2a4b2",
   "metadata": {},
   "outputs": [],
   "source": [
    "X_train = X_train.to(torch.float32)\n",
    "X_test = X_test.to(torch.float32)\n",
    "y_test = y_test.to(torch.float32)\n",
    "y_train = y_train.to(torch.float32)"
   ]
  },
  {
   "cell_type": "code",
   "execution_count": 271,
   "id": "2fdc7b09-cbc8-4c49-95ce-d21e99a2207a",
   "metadata": {},
   "outputs": [
    {
     "name": "stdout",
     "output_type": "stream",
     "text": [
      "torch.float32\n",
      "torch.float32\n",
      "torch.float32\n",
      "torch.float32\n"
     ]
    }
   ],
   "source": [
    "print(X_train.dtype)\n",
    "print(X_test.dtype)\n",
    "print(y_train.dtype)\n",
    "print(y_test.dtype)"
   ]
  },
  {
   "cell_type": "code",
   "execution_count": 272,
   "id": "172747ae-0154-4886-acd1-63bc61930db6",
   "metadata": {},
   "outputs": [
    {
     "data": {
      "text/plain": [
       "torch.float32"
      ]
     },
     "execution_count": 272,
     "metadata": {},
     "output_type": "execute_result"
    }
   ],
   "source": [
    "import torch\n",
    "dummy_y = torch.softmax(model0(dummy_x), 0)\n",
    "dummy_y.dtype"
   ]
  },
  {
   "cell_type": "code",
   "execution_count": 273,
   "id": "e0da9749-d151-4b24-bc4c-7867f4f1f9a8",
   "metadata": {},
   "outputs": [
    {
     "name": "stderr",
     "output_type": "stream",
     "text": [
      "/tmp/ipykernel_6389/3757901959.py:3: UserWarning: To copy construct from a tensor, it is recommended to use sourceTensor.detach().clone() or sourceTensor.detach().clone().requires_grad_(True), rather than torch.tensor(sourceTensor).\n",
      "  weight = torch.tensor(negs / pos).to(device)\n"
     ]
    }
   ],
   "source": [
    "negs = (y_train == 0).sum()\n",
    "pos = (y_train == 1).sum()\n",
    "weight = torch.tensor(negs / pos).to(device)\n",
    "weight = torch.tensor([10]).to(device)\n",
    "loss_fn = nn.BCEWithLogitsLoss(pos_weight = weight)\n",
    "optimizer = torch.optim.SGD(lr = 0.0001,\n",
    "                            params = model0.parameters())\n",
    "\n",
    "\n",
    "def accuracy_fn(y_true, y_pred):\n",
    "    \"\"\"Calculates accuracy between truth labels and predictions.\n",
    "\n",
    "    Args:\n",
    "        y_true (torch.Tensor): Truth labels for predictions.\n",
    "        y_pred (torch.Tensor): Predictions to be compared to predictions.\n",
    "\n",
    "    Returns:\n",
    "        [torch.float]: Accuracy value between y_true and y_pred, e.g. 78.45\n",
    "    \"\"\"\n",
    "    correct = torch.eq(y_true, y_pred).sum().item()\n",
    "    acc = (correct / len(y_pred)) * 100\n",
    "    return acc\n"
   ]
  },
  {
   "cell_type": "code",
   "execution_count": null,
   "id": "68fa9876-acea-4dc1-9457-3b16d4fbb80d",
   "metadata": {},
   "outputs": [
    {
     "name": "stdout",
     "output_type": "stream",
     "text": [
      "Epoch: 0 | Train acc:  95.06% | Train loss:  0.9969 | Test acc:  95.11% | Test loss:  0.9983\n",
      "Epoch: 1000 | Train acc:  95.06% | Train loss:  0.9969 | Test acc:  95.11% | Test loss:  0.9983\n",
      "Epoch: 2000 | Train acc:  95.06% | Train loss:  0.9969 | Test acc:  95.11% | Test loss:  0.9983\n",
      "Epoch: 3000 | Train acc:  95.06% | Train loss:  0.9969 | Test acc:  95.11% | Test loss:  0.9983\n"
     ]
    }
   ],
   "source": [
    "EPOCHS = 10000\n",
    "test_loss_val = []\n",
    "train_loss_val = []\n",
    "test_acc_val = []\n",
    "train_acc_val = []\n",
    "epoch_count = []\n",
    "model0.to(device)\n",
    "for epoch in range(EPOCHS):\n",
    "    model0.train()\n",
    "    X_train, y_train = X_train.to(device), y_train.to(device)\n",
    "    y_logits = model0(X_train).squeeze(1)\n",
    "    y_pred = torch.sigmoid(y_logits).round()\n",
    "    #print(y_logits.shape)\n",
    "    \n",
    "    train_loss = loss_fn(y_logits, y_train)\n",
    "    \n",
    "    train_acc = accuracy_fn(y_train, y_logits)\n",
    "\n",
    "    optimizer.zero_grad()\n",
    "\n",
    "    train_loss.backward()\n",
    "\n",
    "    optimizer.step()\n",
    "\n",
    "    #Evaluating model\n",
    "    model0.eval()\n",
    "    X_test, y_test = X_test.to(device), y_test.to(device)\n",
    "    with torch.inference_mode():\n",
    "        test_logits = model0(X_test).squeeze(1)\n",
    "        test_preds = torch.sigmoid(test_logits).round()\n",
    "\n",
    "        test_loss = loss_fn(test_logits, y_test)\n",
    "\n",
    "        test_acc = accuracy_fn(y_test, test_logits)\n",
    "\n",
    "        if epoch % 1000 == 0:\n",
    "            epoch_count.append(epoch)\n",
    "            test_loss_val.append(test_loss)\n",
    "            test_acc_val.append(test_acc)\n",
    "            train_loss_val.append(train_loss)\n",
    "            train_acc_val.append(train_acc)\n",
    "            print(f\"Epoch: {epoch} | Train acc: {train_acc: .2f}% | Train loss: {train_loss: .4f} | Test acc: {test_acc: .2f}% | Test loss: {test_loss: .4f}\")\n",
    "\n",
    "            \n",
    "        \n",
    "    \n",
    "\n",
    "    \n",
    "\n",
    "\n",
    "    "
   ]
  },
  {
   "cell_type": "code",
   "execution_count": 259,
   "id": "6cc538f5-ac81-4301-89c9-3b8c83207b19",
   "metadata": {},
   "outputs": [],
   "source": [
    "import numpy as np\n",
    "eval_preds = []\n",
    "y_true = []\n",
    "\n",
    "X_test, y_test = X_test.to('cpu'), y_test.to('cpu')\n",
    "model0.to('cpu')\n",
    "model0.eval()\n",
    "with torch.inference_mode():\n",
    "    eval_logits = model0(X_test).squeeze(1)\n",
    "    eval_pred = torch.sigmoid(eval_logits).round()\n",
    "\n",
    "    eval_preds.append(eval_pred)\n",
    "    y_true.append(y_test)\n",
    "    y_pred_np = torch.cat(eval_preds).numpy()\n",
    "    y_true_np = torch.cat(y_true).numpy()\n"
   ]
  },
  {
   "cell_type": "code",
   "execution_count": 260,
   "id": "a6d9c1fa-8126-46ee-9180-0506ba2f6d5c",
   "metadata": {},
   "outputs": [
    {
     "data": {
      "text/plain": [
       "array([0., 0., 0., ..., 1., 0., 0.], shape=(1022,), dtype=float32)"
      ]
     },
     "execution_count": 260,
     "metadata": {},
     "output_type": "execute_result"
    }
   ],
   "source": [
    "y_pred_np"
   ]
  },
  {
   "cell_type": "code",
   "execution_count": 261,
   "id": "62709f8c-7e7f-42a8-933c-5d554363b6c8",
   "metadata": {},
   "outputs": [],
   "source": [
    "from sklearn.metrics import confusion_matrix\n",
    "import matplotlib.pyplot as plt\n",
    "import seaborn as sns\n",
    "\n",
    "# Compute confusion matrix\n",
    "cm = confusion_matrix(y_true_np, y_pred_np)\n",
    "\n",
    "# Optional: Define class names\n",
    "class_names = ['0', '1']"
   ]
  },
  {
   "cell_type": "code",
   "execution_count": 262,
   "id": "c7d70cdd-50dc-49dd-805d-0bacd86a71d3",
   "metadata": {},
   "outputs": [
    {
     "data": {
      "image/png": "[encoded data removed]",
      "text/plain": [
       "<Figure size 600x500 with 2 Axes>"
      ]
     },
     "metadata": {},
     "output_type": "display_data"
    }
   ],
   "source": [
    "plt.figure(figsize=(6, 5))\n",
    "sns.heatmap(cm, annot=True, fmt='d', cmap='Blues',\n",
    "            xticklabels=class_names,\n",
    "            yticklabels=class_names)\n",
    "\n",
    "plt.xlabel('Predicted Label')\n",
    "plt.ylabel('True Label')\n",
    "plt.title('Confusion Matrix')\n",
    "plt.tight_layout()\n",
    "plt.show()"
   ]
  },
  {
   "cell_type": "code",
   "execution_count": null,
   "id": "21433737-83f6-45c4-bf30-3bebd1313133",
   "metadata": {},
   "outputs": [],
   "source": []
  }
 ],
 "metadata": {
  "kernelspec": {
   "display_name": "Python [conda env:base] *",
   "language": "python",
   "name": "conda-base-py"
  },
  "language_info": {
   "codemirror_mode": {
    "name": "ipython",
    "version": 3
   },
   "file_extension": ".py",
   "mimetype": "text/x-python",
   "name": "python",
   "nbconvert_exporter": "python",
   "pygments_lexer": "ipython3",
   "version": "3.13.5"
  }
 },
 "nbformat": 4,
 "nbformat_minor": 5
}
